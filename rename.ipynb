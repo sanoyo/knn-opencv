{
 "cells": [
  {
   "cell_type": "code",
   "execution_count": 1,
   "metadata": {},
   "outputs": [],
   "source": [
    "import glob\n",
    "import os"
   ]
  },
  {
   "cell_type": "code",
   "execution_count": 3,
   "metadata": {},
   "outputs": [
    {
     "name": "stdout",
     "output_type": "stream",
     "text": [
      "['./train/0/Abyssinian_20.jpg', './train/0/Abyssinian_21.jpg', './train/0/Abyssinian_22.jpg', './train/0/Abyssinian_24.jpg', './train/0/Abyssinian_25.jpg', './train/0/Abyssinian_26.jpg', './train/0/Abyssinian_27.jpg', './train/0/Abyssinian_29.jpg', './train/0/Abyssinian_30.jpg', './train/0/Abyssinian_31.jpg']\n"
     ]
    }
   ],
   "source": [
    "# ファイル名取得\n",
    "print(glob.glob('./train/0/*'))"
   ]
  },
  {
   "cell_type": "code",
   "execution_count": 5,
   "metadata": {},
   "outputs": [],
   "source": [
    "# ファイル名1つだけ変更\n",
    "os.rename('./train/0/Abyssinian_20.jpg', './train/0/a_000.jpg')"
   ]
  },
  {
   "cell_type": "code",
   "execution_count": null,
   "metadata": {},
   "outputs": [],
   "source": []
  },
  {
   "cell_type": "code",
   "execution_count": null,
   "metadata": {},
   "outputs": [],
   "source": []
  }
 ],
 "metadata": {
  "kernelspec": {
   "display_name": "Python 3",
   "language": "python",
   "name": "python3"
  },
  "language_info": {
   "codemirror_mode": {
    "name": "ipython",
    "version": 3
   },
   "file_extension": ".py",
   "mimetype": "text/x-python",
   "name": "python",
   "nbconvert_exporter": "python",
   "pygments_lexer": "ipython3",
   "version": "3.6.2"
  }
 },
 "nbformat": 4,
 "nbformat_minor": 2
}
